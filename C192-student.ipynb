{
 "cells": [
  {
   "cell_type": "code",
   "execution_count": 11,
   "metadata": {},
   "outputs": [
    {
     "name": "stdout",
     "output_type": "stream",
     "text": [
      "Name :\n",
      "We will learn how to perform group by operation and count number of Missions as per the company, and plot a bar graph out of it\n",
      "We will learn how to perform group by operation and count the status of the Missions, and plot a pie chart out of it\n",
      "We will learn how to search the number of active rockets, and perform group by operation and count number of active rockets as per the company and plot a bar graph out of it\n"
     ]
    }
   ],
   "source": [
    "print(\"Name :\")\n",
    "print(\"We will learn how to perform group by operation and count number of Missions as per the company, and plot a bar graph out of it\")\n",
    "print(\"We will learn how to perform group by operation and count the status of the Missions, and plot a pie chart out of it\")\n",
    "print(\"We will learn how to search the number of active rockets, and perform group by operation and count number of active rockets as per the company and plot a bar graph out of it\")\n"
   ]
  },
  {
   "cell_type": "code",
   "execution_count": 12,
   "metadata": {},
   "outputs": [
    {
     "data": {
      "text/html": [
       "<div>\n",
       "<style scoped>\n",
       "    .dataframe tbody tr th:only-of-type {\n",
       "        vertical-align: middle;\n",
       "    }\n",
       "\n",
       "    .dataframe tbody tr th {\n",
       "        vertical-align: top;\n",
       "    }\n",
       "\n",
       "    .dataframe thead th {\n",
       "        text-align: right;\n",
       "    }\n",
       "</style>\n",
       "<table border=\"1\" class=\"dataframe\">\n",
       "  <thead>\n",
       "    <tr style=\"text-align: right;\">\n",
       "      <th></th>\n",
       "      <th>Unnamed: 0</th>\n",
       "      <th>Unnamed: 0.1</th>\n",
       "      <th>Company Name</th>\n",
       "      <th>Location</th>\n",
       "      <th>Datum</th>\n",
       "      <th>Detail</th>\n",
       "      <th>Status Rocket</th>\n",
       "      <th>Rocket</th>\n",
       "      <th>Status Mission</th>\n",
       "    </tr>\n",
       "  </thead>\n",
       "  <tbody>\n",
       "    <tr>\n",
       "      <th>0</th>\n",
       "      <td>0</td>\n",
       "      <td>0</td>\n",
       "      <td>SpaceX</td>\n",
       "      <td>LC-39A, Kennedy Space Center, Florida, USA</td>\n",
       "      <td>Fri Aug 07, 2020 05:12 UTC</td>\n",
       "      <td>Falcon 9 Block 5 | Starlink V1 L9 &amp; BlackSky</td>\n",
       "      <td>StatusActive</td>\n",
       "      <td>50.0</td>\n",
       "      <td>Success</td>\n",
       "    </tr>\n",
       "    <tr>\n",
       "      <th>1</th>\n",
       "      <td>1</td>\n",
       "      <td>1</td>\n",
       "      <td>CASC</td>\n",
       "      <td>Site 9401 (SLS-2), Jiuquan Satellite Launch Ce...</td>\n",
       "      <td>Thu Aug 06, 2020 04:01 UTC</td>\n",
       "      <td>Long March 2D | Gaofen-9 04 &amp; Q-SAT</td>\n",
       "      <td>StatusActive</td>\n",
       "      <td>29.75</td>\n",
       "      <td>Success</td>\n",
       "    </tr>\n",
       "    <tr>\n",
       "      <th>3</th>\n",
       "      <td>3</td>\n",
       "      <td>3</td>\n",
       "      <td>Roscosmos</td>\n",
       "      <td>Site 200/39, Baikonur Cosmodrome, Kazakhstan</td>\n",
       "      <td>Thu Jul 30, 2020 21:25 UTC</td>\n",
       "      <td>Proton-M/Briz-M | Ekspress-80 &amp; Ekspress-103</td>\n",
       "      <td>StatusActive</td>\n",
       "      <td>65.0</td>\n",
       "      <td>Success</td>\n",
       "    </tr>\n",
       "    <tr>\n",
       "      <th>4</th>\n",
       "      <td>4</td>\n",
       "      <td>4</td>\n",
       "      <td>ULA</td>\n",
       "      <td>SLC-41, Cape Canaveral AFS, Florida, USA</td>\n",
       "      <td>Thu Jul 30, 2020 11:50 UTC</td>\n",
       "      <td>Atlas V 541 | Perseverance</td>\n",
       "      <td>StatusActive</td>\n",
       "      <td>145.0</td>\n",
       "      <td>Success</td>\n",
       "    </tr>\n",
       "    <tr>\n",
       "      <th>5</th>\n",
       "      <td>5</td>\n",
       "      <td>5</td>\n",
       "      <td>CASC</td>\n",
       "      <td>LC-9, Taiyuan Satellite Launch Center, China</td>\n",
       "      <td>Sat Jul 25, 2020 03:13 UTC</td>\n",
       "      <td>Long March 4B | Ziyuan-3 03, Apocalypse-10 &amp; N...</td>\n",
       "      <td>StatusActive</td>\n",
       "      <td>64.68</td>\n",
       "      <td>Success</td>\n",
       "    </tr>\n",
       "    <tr>\n",
       "      <th>6</th>\n",
       "      <td>6</td>\n",
       "      <td>6</td>\n",
       "      <td>Roscosmos</td>\n",
       "      <td>Site 31/6, Baikonur Cosmodrome, Kazakhstan</td>\n",
       "      <td>Thu Jul 23, 2020 14:26 UTC</td>\n",
       "      <td>Soyuz 2.1a | Progress MS-15</td>\n",
       "      <td>StatusActive</td>\n",
       "      <td>48.5</td>\n",
       "      <td>Success</td>\n",
       "    </tr>\n",
       "    <tr>\n",
       "      <th>8</th>\n",
       "      <td>8</td>\n",
       "      <td>8</td>\n",
       "      <td>SpaceX</td>\n",
       "      <td>SLC-40, Cape Canaveral AFS, Florida, USA</td>\n",
       "      <td>Mon Jul 20, 2020 21:30 UTC</td>\n",
       "      <td>Falcon 9 Block 5 | ANASIS-II</td>\n",
       "      <td>StatusActive</td>\n",
       "      <td>50.0</td>\n",
       "      <td>Success</td>\n",
       "    </tr>\n",
       "    <tr>\n",
       "      <th>9</th>\n",
       "      <td>9</td>\n",
       "      <td>9</td>\n",
       "      <td>JAXA</td>\n",
       "      <td>LA-Y1, Tanegashima Space Center, Japan</td>\n",
       "      <td>Sun Jul 19, 2020 21:58 UTC</td>\n",
       "      <td>H-IIA 202 | Hope Mars Mission</td>\n",
       "      <td>StatusActive</td>\n",
       "      <td>90.0</td>\n",
       "      <td>Success</td>\n",
       "    </tr>\n",
       "    <tr>\n",
       "      <th>10</th>\n",
       "      <td>10</td>\n",
       "      <td>10</td>\n",
       "      <td>Northrop</td>\n",
       "      <td>LP-0B, Wallops Flight Facility, Virginia, USA</td>\n",
       "      <td>Wed Jul 15, 2020 13:46 UTC</td>\n",
       "      <td>Minotaur IV | NROL-129</td>\n",
       "      <td>StatusActive</td>\n",
       "      <td>46.0</td>\n",
       "      <td>Success</td>\n",
       "    </tr>\n",
       "    <tr>\n",
       "      <th>11</th>\n",
       "      <td>11</td>\n",
       "      <td>11</td>\n",
       "      <td>ExPace</td>\n",
       "      <td>Site 95, Jiuquan Satellite Launch Center, China</td>\n",
       "      <td>Fri Jul 10, 2020 04:17 UTC</td>\n",
       "      <td>Kuaizhou 11 | Jilin-1 02E, CentiSpace-1 S2</td>\n",
       "      <td>StatusActive</td>\n",
       "      <td>28.3</td>\n",
       "      <td>Failure</td>\n",
       "    </tr>\n",
       "  </tbody>\n",
       "</table>\n",
       "</div>"
      ],
      "text/plain": [
       "    Unnamed: 0  Unnamed: 0.1 Company Name  \\\n",
       "0            0             0       SpaceX   \n",
       "1            1             1         CASC   \n",
       "3            3             3    Roscosmos   \n",
       "4            4             4          ULA   \n",
       "5            5             5         CASC   \n",
       "6            6             6    Roscosmos   \n",
       "8            8             8       SpaceX   \n",
       "9            9             9         JAXA   \n",
       "10          10            10     Northrop   \n",
       "11          11            11       ExPace   \n",
       "\n",
       "                                             Location  \\\n",
       "0          LC-39A, Kennedy Space Center, Florida, USA   \n",
       "1   Site 9401 (SLS-2), Jiuquan Satellite Launch Ce...   \n",
       "3        Site 200/39, Baikonur Cosmodrome, Kazakhstan   \n",
       "4            SLC-41, Cape Canaveral AFS, Florida, USA   \n",
       "5        LC-9, Taiyuan Satellite Launch Center, China   \n",
       "6          Site 31/6, Baikonur Cosmodrome, Kazakhstan   \n",
       "8            SLC-40, Cape Canaveral AFS, Florida, USA   \n",
       "9              LA-Y1, Tanegashima Space Center, Japan   \n",
       "10      LP-0B, Wallops Flight Facility, Virginia, USA   \n",
       "11    Site 95, Jiuquan Satellite Launch Center, China   \n",
       "\n",
       "                         Datum  \\\n",
       "0   Fri Aug 07, 2020 05:12 UTC   \n",
       "1   Thu Aug 06, 2020 04:01 UTC   \n",
       "3   Thu Jul 30, 2020 21:25 UTC   \n",
       "4   Thu Jul 30, 2020 11:50 UTC   \n",
       "5   Sat Jul 25, 2020 03:13 UTC   \n",
       "6   Thu Jul 23, 2020 14:26 UTC   \n",
       "8   Mon Jul 20, 2020 21:30 UTC   \n",
       "9   Sun Jul 19, 2020 21:58 UTC   \n",
       "10  Wed Jul 15, 2020 13:46 UTC   \n",
       "11  Fri Jul 10, 2020 04:17 UTC   \n",
       "\n",
       "                                               Detail Status Rocket  Rocket  \\\n",
       "0        Falcon 9 Block 5 | Starlink V1 L9 & BlackSky  StatusActive   50.0    \n",
       "1                 Long March 2D | Gaofen-9 04 & Q-SAT  StatusActive  29.75    \n",
       "3        Proton-M/Briz-M | Ekspress-80 & Ekspress-103  StatusActive   65.0    \n",
       "4                          Atlas V 541 | Perseverance  StatusActive  145.0    \n",
       "5   Long March 4B | Ziyuan-3 03, Apocalypse-10 & N...  StatusActive  64.68    \n",
       "6                         Soyuz 2.1a | Progress MS-15  StatusActive   48.5    \n",
       "8                        Falcon 9 Block 5 | ANASIS-II  StatusActive   50.0    \n",
       "9                       H-IIA 202 | Hope Mars Mission  StatusActive   90.0    \n",
       "10                             Minotaur IV | NROL-129  StatusActive   46.0    \n",
       "11         Kuaizhou 11 | Jilin-1 02E, CentiSpace-1 S2  StatusActive   28.3    \n",
       "\n",
       "   Status Mission  \n",
       "0         Success  \n",
       "1         Success  \n",
       "3         Success  \n",
       "4         Success  \n",
       "5         Success  \n",
       "6         Success  \n",
       "8         Success  \n",
       "9         Success  \n",
       "10        Success  \n",
       "11        Failure  "
      ]
     },
     "execution_count": 12,
     "metadata": {},
     "output_type": "execute_result"
    }
   ],
   "source": [
    "import  numpy as np\n",
    "import pandas as pd \n",
    "import matplotlib .pyplot as plt\n",
    "\n",
    "dataframe = pd.read_csv(\"space_Corrected.csv\")\n",
    "df=dataframe.dropna()\n",
    "\n",
    "df.head(10)"
   ]
  },
  {
   "cell_type": "code",
   "execution_count": 13,
   "metadata": {},
   "outputs": [
    {
     "name": "stdout",
     "output_type": "stream",
     "text": [
      "       Company Name  Status Mission\n",
      "0       Arianespace              96\n",
      "1            Boeing               7\n",
      "2              CASC             158\n",
      "3               EER               1\n",
      "4               ESA               1\n",
      "5          Eurockot              13\n",
      "6            ExPace               1\n",
      "7               ILS              13\n",
      "8              ISRO              67\n",
      "9              JAXA               3\n",
      "10        Kosmotras              22\n",
      "11         Lockheed               8\n",
      "12              MHI              37\n",
      "13  Martin Marietta               9\n",
      "14             NASA             149\n",
      "15         Northrop              83\n",
      "16        RVSN USSR               2\n",
      "17       Rocket Lab              13\n",
      "18        Roscosmos              23\n",
      "19           Sandia               1\n",
      "20           SpaceX              99\n",
      "21              ULA              98\n",
      "22     US Air Force              26\n",
      "23           VKS RF              33\n",
      "24     Virgin Orbit               1\n"
     ]
    },
    {
     "data": {
      "text/plain": [
       "<BarContainer object of 25 artists>"
      ]
     },
     "execution_count": 13,
     "metadata": {},
     "output_type": "execute_result"
    },
    {
     "data": {
      "image/png": "[encoded data removed]",
      "text/plain": [
       "<Figure size 1152x576 with 1 Axes>"
      ]
     },
     "metadata": {
      "needs_background": "light"
     },
     "output_type": "display_data"
    }
   ],
   "source": [
    "#Activity-1\n",
    "#Find total number of missions by each company, and plot a bar graph on it\n",
    "#First group by Company Name and count Status Mission and create a new dataframe out of it\n",
    "group_by_name = df.groupby('Company Name')['Status Mission'].count().reset_index()\n",
    "print(group_by_name)\n",
    "fig = plt.subplots(figsize=(16,8))\n",
    "plt.title('Total Missions (Since 1957)', fontsize=20)\n",
    "plt.xlabel('Company Name', fontsize=16)\n",
    "plt.ylabel('Mission Counts', fontsize=16)\n",
    "plt.xticks(rotation='vertical')\n",
    "\n",
    "#Then get all the Company Name and Status Mission count and use these 2 values to plot a bar graph \n",
    "label = group_by_name['Company Name']\n",
    "value = group_by_name['Status Mission']\n",
    "plt.bar(label, value,width=0.4, color=('red','blue','green','pink','yellow')) #bar-grap\n"
   ]
  },
  {
   "cell_type": "code",
   "execution_count": 17,
   "metadata": {},
   "outputs": [
    {
     "name": "stdout",
     "output_type": "stream",
     "text": [
      "      Status Mission  Status Rocket\n",
      "0            Failure             36\n",
      "1    Partial Failure             17\n",
      "2  Prelaunch Failure              1\n",
      "3            Success            910\n"
     ]
    },
    {
     "data": {
      "image/png": "[encoded data removed]",
      "text/plain": [
       "<Figure size 432x288 with 1 Axes>"
      ]
     },
     "metadata": {},
     "output_type": "display_data"
    }
   ],
   "source": [
    "#Activity-2\n",
    "#Find out the percentage of rocket Success, Failure, Partial Failure, and Prelaunch Failure. And plot a pie chart\n",
    "\n",
    "group_by_status = df.groupby('Status Mission')['Status Rocket'].count().reset_index()\n",
    "print(group_by_status)\n",
    "\n",
    "value = group_by_status['Status Rocket']\n",
    "label = group_by_status['Status Mission']\n",
    "plt.pie(value,labels=label, autopct='%0.1f%%', radius=2)\n",
    "plt.show()"
   ]
  },
  {
   "cell_type": "code",
   "execution_count": 15,
   "metadata": {},
   "outputs": [
    {
     "name": "stdout",
     "output_type": "stream",
     "text": [
      "      Status Mission  Status Rocket\n",
      "0            Failure             36\n",
      "1    Partial Failure             17\n",
      "2  Prelaunch Failure              1\n",
      "3            Success            910\n"
     ]
    },
    {
     "ename": "NameError",
     "evalue": "name 'pltsubplots' is not defined",
     "output_type": "error",
     "traceback": [
      "\u001b[1;31m---------------------------------------------------------------------------\u001b[0m",
      "\u001b[1;31mNameError\u001b[0m                                 Traceback (most recent call last)",
      "\u001b[1;32m<ipython-input-15-cd7f8983afbe>\u001b[0m in \u001b[0;36m<module>\u001b[1;34m\u001b[0m\n\u001b[0;32m      8\u001b[0m \u001b[0mgroup_by_name\u001b[0m \u001b[1;33m=\u001b[0m \u001b[0mdf\u001b[0m\u001b[1;33m.\u001b[0m\u001b[0mgroupby\u001b[0m\u001b[1;33m(\u001b[0m\u001b[1;34m'Status Mission'\u001b[0m\u001b[1;33m)\u001b[0m\u001b[1;33m[\u001b[0m\u001b[1;34m'Status Rocket'\u001b[0m\u001b[1;33m]\u001b[0m\u001b[1;33m.\u001b[0m\u001b[0mcount\u001b[0m\u001b[1;33m(\u001b[0m\u001b[1;33m)\u001b[0m\u001b[1;33m.\u001b[0m\u001b[0mreset_index\u001b[0m\u001b[1;33m(\u001b[0m\u001b[1;33m)\u001b[0m\u001b[1;33m\u001b[0m\u001b[1;33m\u001b[0m\u001b[0m\n\u001b[0;32m      9\u001b[0m \u001b[0mprint\u001b[0m\u001b[1;33m(\u001b[0m\u001b[0mgroup_by_name\u001b[0m\u001b[1;33m)\u001b[0m\u001b[1;33m\u001b[0m\u001b[1;33m\u001b[0m\u001b[0m\n\u001b[1;32m---> 10\u001b[1;33m \u001b[0mfig\u001b[0m \u001b[1;33m=\u001b[0m \u001b[0mpltsubplots\u001b[0m\u001b[1;33m(\u001b[0m\u001b[0mfigsize\u001b[0m \u001b[1;33m=\u001b[0m \u001b[1;33m(\u001b[0m\u001b[1;36m16\u001b[0m\u001b[1;33m,\u001b[0m \u001b[1;36m8\u001b[0m\u001b[1;33m)\u001b[0m\u001b[1;33m)\u001b[0m\u001b[1;33m\u001b[0m\u001b[1;33m\u001b[0m\u001b[0m\n\u001b[0m\u001b[0;32m     11\u001b[0m \u001b[0mplt\u001b[0m\u001b[1;33m.\u001b[0m\u001b[0mxlabel\u001b[0m\u001b[1;33m(\u001b[0m\u001b[1;34m'Company Name'\u001b[0m\u001b[1;33m)\u001b[0m\u001b[1;33m\u001b[0m\u001b[1;33m\u001b[0m\u001b[0m\n\u001b[0;32m     12\u001b[0m \u001b[0mplt\u001b[0m\u001b[1;33m.\u001b[0m\u001b[0mxticks\u001b[0m\u001b[1;33m(\u001b[0m\u001b[0mrotation\u001b[0m\u001b[1;33m=\u001b[0m\u001b[1;34m'vertical'\u001b[0m\u001b[1;33m)\u001b[0m\u001b[1;33m\u001b[0m\u001b[1;33m\u001b[0m\u001b[0m\n",
      "\u001b[1;31mNameError\u001b[0m: name 'pltsubplots' is not defined"
     ]
    }
   ],
   "source": [
    "#Activity-3\n",
    "# Find the number of Active Rockets as per the company and plot a bar grap of it\n",
    "\n",
    "search_Status_Active = df.loc[df['Status Rocket'] == 'StatusActive']\n",
    "\n",
    "#First search where Status Rocket column value is equal to StatusActive\n",
    "\n",
    "group_by_name = df.groupby('Status Mission')['Status Rocket'].count().reset_index()\n",
    "print(group_by_name)\n",
    "fig = pltsubplots(figsize = (16,8))\n",
    "plt.xlabel('Company Name')\n",
    "plt.xticks(rotation='vertical')\n",
    "plt.ylabel('Number of Active Rockets')\n",
    "\n",
    "#Then group by Company Name and count Status Rocket and create a new dataframe out of it\n",
    "\n",
    "#Then get all the Company Name and Status Rocket count and use these 2 values to plot a bar graph \n",
    "label = group_by_name['Company Name']\n",
    "value = group_by_name['Status Mission']\n",
    "\n",
    "plt.bar(label, value,width=0.4, color=('red','blue','green','pink','yellow')) #bar-grap"
   ]
  },
  {
   "cell_type": "code",
   "execution_count": null,
   "metadata": {},
   "outputs": [],
   "source": []
  },
  {
   "cell_type": "code",
   "execution_count": null,
   "metadata": {},
   "outputs": [],
   "source": []
  },
  {
   "cell_type": "code",
   "execution_count": null,
   "metadata": {},
   "outputs": [],
   "source": []
  },
  {
   "cell_type": "code",
   "execution_count": null,
   "metadata": {},
   "outputs": [],
   "source": []
  },
  {
   "cell_type": "code",
   "execution_count": null,
   "metadata": {},
   "outputs": [],
   "source": []
  }
 ],
 "metadata": {
  "kernelspec": {
   "display_name": "Python 3",
   "language": "python",
   "name": "python3"
  },
  "language_info": {
   "codemirror_mode": {
    "name": "ipython",
    "version": 3
   },
   "file_extension": ".py",
   "mimetype": "text/x-python",
   "name": "python",
   "nbconvert_exporter": "python",
   "pygments_lexer": "ipython3",
   "version": "3.8.8"
  }
 },
 "nbformat": 4,
 "nbformat_minor": 4
}
